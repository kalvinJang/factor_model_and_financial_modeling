{
 "cells": [
  {
   "cell_type": "code",
   "execution_count": 1,
   "id": "6ed1210d",
   "metadata": {},
   "outputs": [
    {
     "name": "stdout",
     "output_type": "stream",
     "text": [
      "Looking in indexes: https://test.pypi.org/simple/\n",
      "Collecting aj7213==0.0.9\n",
      "  Downloading https://test-files.pythonhosted.org/packages/61/56/35d39917a6d66021084ebb7188dd1b70c7f74a16b4da862b31737499509e/aj7213-0.0.9-py3-none-any.whl (10 kB)\n",
      "Installing collected packages: aj7213\n",
      "  Attempting uninstall: aj7213\n",
      "    Found existing installation: aj7213 0.0.7\n",
      "    Uninstalling aj7213-0.0.7:\n",
      "      Successfully uninstalled aj7213-0.0.7\n",
      "Successfully installed aj7213-0.0.9\n",
      "Note: you may need to restart the kernel to use updated packages.\n"
     ]
    }
   ],
   "source": [
    "pip install -i https://test.pypi.org/simple/ aj7213==0.0.9"
   ]
  },
  {
   "cell_type": "code",
   "execution_count": 2,
   "id": "ef463646",
   "metadata": {
    "scrolled": true
   },
   "outputs": [],
   "source": [
    "from aj7213 import sirius\n",
    "from aj7213 import config_sirius"
   ]
  },
  {
   "cell_type": "code",
   "execution_count": 3,
   "id": "efeaf247",
   "metadata": {},
   "outputs": [],
   "source": [
    "config = config_sirius.CONFIG"
   ]
  },
  {
   "cell_type": "code",
   "execution_count": 4,
   "id": "1c73451a",
   "metadata": {},
   "outputs": [
    {
     "name": "stdout",
     "output_type": "stream",
     "text": [
      "Welcome to Sirius!\n",
      "Let's Play, Create, and Farm.\n"
     ]
    }
   ],
   "source": [
    "lab = sirius.Sirius(config)"
   ]
  },
  {
   "cell_type": "code",
   "execution_count": null,
   "id": "9634f1bc",
   "metadata": {
    "scrolled": false
   },
   "outputs": [
    {
     "name": "stdout",
     "output_type": "stream",
     "text": [
      "Downloading fundamental data...\n"
     ]
    },
    {
     "name": "stderr",
     "output_type": "stream",
     "text": [
      "Downloading...\n",
      "From: https://drive.google.com/uc?id=1khSuP5zRrtoKXomJgztubM3sWGM-CeRz\n",
      "To: C:\\Users\\jky93\\KYdrive\\바탕 화면\\창업\\팩터프로젝트\\Data\\fundamental\\ind.pkl\n",
      "100%|█████████████████████████████████████████████████████████████████████████████| 94.4k/94.4k [00:00<00:00, 1.21MB/s]\n",
      "Downloading...\n",
      "From: https://drive.google.com/uc?id=1i3fzTASZjgA5XIUATnrMqfOtqeUxQBKN\n",
      "To: C:\\Users\\jky93\\KYdrive\\바탕 화면\\창업\\팩터프로젝트\\Data\\fundamental\\data.pkl\n",
      "100%|███████████████████████████████████████████████████████████████████████████████| 109M/109M [00:03<00:00, 28.1MB/s]\n"
     ]
    },
    {
     "name": "stdout",
     "output_type": "stream",
     "text": [
      "Downloading price data may take some time. (maybe more than 6 hours)\n",
      "Is it okay to start now? (please answer yes or no)\n",
      "yes\n",
      "Downloading price data from KRX...\n",
      "1995 6 crawling completed\n",
      "1995 7 crawling completed\n"
     ]
    }
   ],
   "source": [
    "lab.download_data()"
   ]
  },
  {
   "cell_type": "code",
   "execution_count": null,
   "id": "ee88cc78",
   "metadata": {},
   "outputs": [],
   "source": []
  }
 ],
 "metadata": {
  "kernelspec": {
   "display_name": "Python 3 (ipykernel)",
   "language": "python",
   "name": "python3"
  },
  "language_info": {
   "codemirror_mode": {
    "name": "ipython",
    "version": 3
   },
   "file_extension": ".py",
   "mimetype": "text/x-python",
   "name": "python",
   "nbconvert_exporter": "python",
   "pygments_lexer": "ipython3",
   "version": "3.7.11"
  }
 },
 "nbformat": 4,
 "nbformat_minor": 5
}
