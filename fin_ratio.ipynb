{
 "cells": [
  {
   "cell_type": "code",
   "execution_count": 1,
   "id": "fbfc3f10",
   "metadata": {},
   "outputs": [],
   "source": [
    "import pandas as pd\n",
    "def fmp_fin_ratio(code):\n",
    "    api_key ='**************'\n",
    "    url = \"https://financialmodelingprep.com/api/v3/ratios/{}?apikey={}\".format(code, api_key)\n",
    "    pd_ratio = pd.read_json(url)\n",
    "    return pd_ratio"
   ]
  },
  {
   "cell_type": "code",
   "execution_count": 3,
   "id": "e9590cd9",
   "metadata": {},
   "outputs": [
    {
     "data": {
      "text/plain": [
       "Index(['symbol', 'date', 'period', 'currentRatio', 'quickRatio', 'cashRatio',\n",
       "       'daysOfSalesOutstanding', 'daysOfInventoryOutstanding',\n",
       "       'operatingCycle', 'daysOfPayablesOutstanding', 'cashConversionCycle',\n",
       "       'grossProfitMargin', 'operatingProfitMargin', 'pretaxProfitMargin',\n",
       "       'netProfitMargin', 'effectiveTaxRate', 'returnOnAssets',\n",
       "       'returnOnEquity', 'returnOnCapitalEmployed', 'netIncomePerEBT',\n",
       "       'ebtPerEbit', 'ebitPerRevenue', 'debtRatio', 'debtEquityRatio',\n",
       "       'longTermDebtToCapitalization', 'totalDebtToCapitalization',\n",
       "       'interestCoverage', 'cashFlowToDebtRatio', 'companyEquityMultiplier',\n",
       "       'receivablesTurnover', 'payablesTurnover', 'inventoryTurnover',\n",
       "       'fixedAssetTurnover', 'assetTurnover', 'operatingCashFlowPerShare',\n",
       "       'freeCashFlowPerShare', 'cashPerShare', 'payoutRatio',\n",
       "       'operatingCashFlowSalesRatio', 'freeCashFlowOperatingCashFlowRatio',\n",
       "       'cashFlowCoverageRatios', 'shortTermCoverageRatios',\n",
       "       'capitalExpenditureCoverageRatio', 'dividendPaidAndCapexCoverageRatio',\n",
       "       'dividendPayoutRatio', 'priceBookValueRatio', 'priceToBookRatio',\n",
       "       'priceToSalesRatio', 'priceEarningsRatio', 'priceToFreeCashFlowsRatio',\n",
       "       'priceToOperatingCashFlowsRatio', 'priceCashFlowRatio',\n",
       "       'priceEarningsToGrowthRatio', 'priceSalesRatio', 'dividendYield',\n",
       "       'enterpriseValueMultiple', 'priceFairValue'],\n",
       "      dtype='object')"
      ]
     },
     "execution_count": 3,
     "metadata": {},
     "output_type": "execute_result"
    }
   ],
   "source": [
    "fmp_fin_ratio('AAPL').columns"
   ]
  },
  {
   "cell_type": "code",
   "execution_count": null,
   "id": "924b8d53",
   "metadata": {},
   "outputs": [],
   "source": []
  },
  {
   "cell_type": "code",
   "execution_count": null,
   "id": "23feeb0d",
   "metadata": {},
   "outputs": [],
   "source": []
  }
 ],
 "metadata": {
  "kernelspec": {
   "display_name": "Python 3 (ipykernel)",
   "language": "python",
   "name": "python3"
  },
  "language_info": {
   "codemirror_mode": {
    "name": "ipython",
    "version": 3
   },
   "file_extension": ".py",
   "mimetype": "text/x-python",
   "name": "python",
   "nbconvert_exporter": "python",
   "pygments_lexer": "ipython3",
   "version": "3.7.11"
  }
 },
 "nbformat": 4,
 "nbformat_minor": 5
}
